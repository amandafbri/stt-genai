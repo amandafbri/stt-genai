{
 "cells": [
  {
   "cell_type": "markdown",
   "id": "05cc6e81-2d3a-41ff-897e-9c630065ab10",
   "metadata": {},
   "source": [
    "# **Google Cloud Speech to Text (STT) API com Python**"
   ]
  },
  {
   "cell_type": "markdown",
   "id": "e553419e-bc9b-4452-809a-b86083784f85",
   "metadata": {
    "tags": []
   },
   "source": [
    "## Setup ambiente"
   ]
  },
  {
   "cell_type": "code",
   "execution_count": null,
   "id": "88548069-4306-4923-a38d-ea80a7e4f7a0",
   "metadata": {
    "tags": []
   },
   "outputs": [],
   "source": [
    "! pip3 install --user --upgrade google-cloud-speech librosa jiwer protobuf --quiet"
   ]
  },
  {
   "cell_type": "markdown",
   "id": "956283cc-432b-48f0-ab3a-081e72643fcc",
   "metadata": {},
   "source": [
    "Replace with your variables"
   ]
  },
  {
   "cell_type": "code",
   "execution_count": null,
   "id": "2199c2cb-ffdc-4d47-b397-d267915bd134",
   "metadata": {},
   "outputs": [],
   "source": [
    "PROJECT_ID = \"INSIRA SEU PROJECT ID\"\n",
    "REGION = \"us-central1\" # modifique se necessario\n",
    "BUCKET_URI = \"gs://audios-transcrever-poc\" # modifique se necessario"
   ]
  },
  {
   "cell_type": "code",
   "execution_count": null,
   "id": "f7ae65d1-33a8-4b6c-ab63-61ba343b3ccb",
   "metadata": {},
   "outputs": [],
   "source": [
    "AUDIO_NAME = \"INSIRA O NOME DO AUDIO COM EXTENSAO ex.: test.wav\""
   ]
  },
  {
   "cell_type": "code",
   "execution_count": null,
   "id": "c9db0928-95d4-4177-925a-fb9534b38d4a",
   "metadata": {
    "tags": []
   },
   "outputs": [],
   "source": [
    "long_audio_origin_uri = (\n",
    "    f\"{BUCKET_URI}/{AUDIO_NAME}\"  # @param {type:\"string\"}\n",
    ")"
   ]
  },
  {
   "cell_type": "code",
   "execution_count": null,
   "id": "31c7e467-7ef4-45f8-a6c1-6a40024cb114",
   "metadata": {
    "tags": []
   },
   "outputs": [],
   "source": [
    "from pathlib import Path as p\n",
    "import librosa\n",
    "from IPython.display import Audio as play\n",
    "from google.cloud.speech_v2 import SpeechClient\n",
    "from google.cloud.speech_v2.types import cloud_speech\n",
    "from google.api_core.client_options import ClientOptions\n",
    "import time\n",
    "import json\n",
    "from pprint import pprint\n",
    "import jiwer"
   ]
  },
  {
   "cell_type": "code",
   "execution_count": null,
   "id": "2e8d3b3a-7b41-442a-b7a9-6dc53e8cdf88",
   "metadata": {},
   "outputs": [],
   "source": [
    "data_folder = p.cwd() / \"data\"\n",
    "p(data_folder).mkdir(parents=True, exist_ok=True)"
   ]
  },
  {
   "cell_type": "code",
   "execution_count": null,
   "id": "8bbd8bb9-9593-4c94-af14-57e8a40bd601",
   "metadata": {
    "tags": []
   },
   "outputs": [],
   "source": [
    "transcriptions_folder = p.cwd() / \"transcriptions\"\n",
    "p(transcriptions_folder).mkdir(parents=True, exist_ok=True)"
   ]
  },
  {
   "cell_type": "markdown",
   "id": "e2f17651-ee9c-4edb-b80e-d085ccfab1cd",
   "metadata": {},
   "source": [
    "## Configuração da requisição para STT"
   ]
  },
  {
   "cell_type": "code",
   "execution_count": null,
   "id": "a6538eaf-5294-434d-bcbb-020533037130",
   "metadata": {
    "tags": []
   },
   "outputs": [],
   "source": [
    "client = SpeechClient(\n",
    "    client_options=ClientOptions(api_endpoint=f\"{REGION}-speech.googleapis.com\")\n",
    ")"
   ]
  },
  {
   "cell_type": "markdown",
   "id": "2f4663f2-4faf-4328-9dd8-13053085103f",
   "metadata": {},
   "source": [
    "Caso não tenha criado *Recognizers* antes, realize os passos abaixo:"
   ]
  },
  {
   "cell_type": "code",
   "execution_count": null,
   "id": "5845bf6a-2181-430c-9fd4-295a9aa8f510",
   "metadata": {
    "tags": []
   },
   "outputs": [],
   "source": [
    "language_code = \"pt-BR\"\n",
    "recognizer_id = f\"chirp-{language_code.lower()}-test\"\n",
    "\n",
    "recognizer_request = cloud_speech.CreateRecognizerRequest(\n",
    "    parent=f\"projects/{PROJECT_ID}/locations/{REGION}\",\n",
    "    recognizer_id=recognizer_id,\n",
    "    recognizer=cloud_speech.Recognizer(\n",
    "        language_codes=[language_code],\n",
    "        model=\"chirp\",\n",
    "    ),\n",
    ")"
   ]
  },
  {
   "cell_type": "code",
   "execution_count": null,
   "id": "30317e9f-dfb6-43e8-9e0e-bc12c2c5b257",
   "metadata": {},
   "outputs": [],
   "source": [
    "create_operation = client.create_recognizer(request=recognizer_request)\n",
    "recognizer_creation = create_operation.result()\n",
    "recognizer = recognizer_creation.name"
   ]
  },
  {
   "cell_type": "markdown",
   "id": "50d79b85-64aa-48c7-ba52-a20457a180a1",
   "metadata": {},
   "source": [
    "Caso já possua seu *Recognizer*, utilize:"
   ]
  },
  {
   "cell_type": "code",
   "execution_count": null,
   "id": "c71a01d8-83b2-4b34-be87-cb08e290e149",
   "metadata": {
    "tags": []
   },
   "outputs": [],
   "source": [
    "RECOGNIZER_NAME=f\"chirp-pt-br-test\""
   ]
  },
  {
   "cell_type": "code",
   "execution_count": null,
   "id": "59ef212e-e653-4c85-a08e-8833ff5bd64e",
   "metadata": {
    "tags": []
   },
   "outputs": [],
   "source": [
    "recognizer = f\"projects/{PROJECT_ID}/locations/{REGION}/recognizers/{RECOGNIZER_NAME}\""
   ]
  },
  {
   "cell_type": "markdown",
   "id": "1b0a4e50-bc8d-46f1-b472-b6228e20fab3",
   "metadata": {},
   "source": [
    "Lembre-se de atualizar de acordo com as funcionalidades disponíveis do modelo a ser testado."
   ]
  },
  {
   "cell_type": "code",
   "execution_count": null,
   "id": "6ccab9a5-86c9-4a33-95ad-5f9e29925ee7",
   "metadata": {
    "tags": []
   },
   "outputs": [],
   "source": [
    "long_audio_config = cloud_speech.RecognitionConfig(\n",
    "    features=cloud_speech.RecognitionFeatures(\n",
    "        enable_automatic_punctuation=True, \n",
    "        enable_word_time_offsets=True\n",
    "    ),\n",
    "    auto_decoding_config={}\n",
    ")"
   ]
  },
  {
   "cell_type": "markdown",
   "id": "c7d97e72-62e1-4d6d-85db-48695832e278",
   "metadata": {},
   "source": [
    "## Inferência"
   ]
  },
  {
   "cell_type": "code",
   "execution_count": null,
   "id": "1bbebeed-407d-4bb7-8b0a-bee26c76e2c1",
   "metadata": {
    "tags": []
   },
   "outputs": [],
   "source": [
    "long_audio_request = cloud_speech.BatchRecognizeRequest(\n",
    "    recognizer=recognizer,\n",
    "    recognition_output_config={\n",
    "        \"gcs_output_config\": {\"uri\": f\"{BUCKET_URI}/transcriptions\"}\n",
    "    },\n",
    "    files=[{\"config\": long_audio_config, \"uri\": long_audio_origin_uri}],\n",
    ")"
   ]
  },
  {
   "cell_type": "code",
   "execution_count": null,
   "id": "0dbad07e-4ca7-4d0f-acdd-5027f36cbf74",
   "metadata": {
    "tags": []
   },
   "outputs": [],
   "source": [
    "long_audio_operation = client.batch_recognize(request=long_audio_request)"
   ]
  },
  {
   "cell_type": "code",
   "execution_count": null,
   "id": "cc501040-2e02-4301-a385-6d18b0a29664",
   "metadata": {
    "tags": []
   },
   "outputs": [],
   "source": [
    "long_audio_operation.result()"
   ]
  },
  {
   "cell_type": "markdown",
   "id": "e8afdb30-69e7-42ca-a8cc-bc246b6e1414",
   "metadata": {},
   "source": [
    "## Análise do resultado"
   ]
  },
  {
   "cell_type": "code",
   "execution_count": null,
   "id": "bd66e570-32d0-4eaa-b1df-badf149e8ba1",
   "metadata": {
    "tags": []
   },
   "outputs": [],
   "source": [
    "transcriptions_uri = f\"{BUCKET_URI}/transcriptions/transcriptions_model_adapt.json\"\n",
    "transcriptions_file_path = str(data_folder / \"transcriptions2.text\")\n",
    "\n",
    "! gsutil cp {transcriptions_uri} {transcriptions_file_path}"
   ]
  },
  {
   "cell_type": "code",
   "execution_count": null,
   "id": "c2546e29-291e-4bc9-827f-b4275ebca27d",
   "metadata": {
    "tags": []
   },
   "outputs": [],
   "source": [
    "transcriptions = json.loads(open(transcriptions_file_path, \"r\").read())\n",
    "transcriptions = transcriptions[\"results\"]\n",
    "transcriptions = [\n",
    "    transcription[\"alternatives\"][0][\"transcript\"]\n",
    "    for transcription in transcriptions\n",
    "    if \"alternatives\" in transcription.keys()\n",
    "]\n",
    "long_audio_transcription = \" \".join(transcriptions)\n",
    "print(long_audio_transcription)"
   ]
  }
 ],
 "metadata": {
  "kernelspec": {
   "display_name": "TensorFlow 2.10 (Local)",
   "language": "python",
   "name": "tf2-2-10"
  },
  "language_info": {
   "codemirror_mode": {
    "name": "ipython",
    "version": 3
   },
   "file_extension": ".py",
   "mimetype": "text/x-python",
   "name": "python",
   "nbconvert_exporter": "python",
   "pygments_lexer": "ipython3",
   "version": "3.10.13"
  }
 },
 "nbformat": 4,
 "nbformat_minor": 5
}
